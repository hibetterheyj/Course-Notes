{
 "cells": [
  {
   "cell_type": "markdown",
   "metadata": {},
   "source": [
    "<center><font size =4>**第六章 传热机理与传热速率方程**</font></center>"
   ]
  },
  {
   "cell_type": "markdown",
   "metadata": {},
   "source": [
    "<center>Last Updated on Dec 11<sub>th</sub>, 2017 by **_PhilHE_**</center>"
   ]
  },
  {
   "cell_type": "markdown",
   "metadata": {
    "heading_collapsed": true
   },
   "source": [
    "### 导论\n",
    "\n",
    "热流量/传热速率：$ \\Phi $，单位为W\n",
    "\n",
    "温度梯度：$ \\boldsymbol{grad} t = \\dfrac{\\delta t}{\\delta n} \\boldsymbol{n} = \\dfrac{\\delta t}{\\delta x} \\boldsymbol{i} + \\dfrac{\\delta t}{\\delta y} \\boldsymbol{j} + \\dfrac{\\delta t}{\\delta z} \\boldsymbol{k}  $\n",
    "\n",
    "温度变化率最大处于**等温线法线方向**上！\n",
    "\n",
    "### 热传导\n",
    "\n",
    ">   是指具有较高能级的粒子向较低能级的粒子传递能量的过程。\n",
    "\n",
    "-   **傅里叶定律**（导热的传导热方程）\n",
    "\n",
    ">   通过大平壁的**热流量**与两侧的**温度差**$ \\Delta t $，**传热面积**A成**正比**，与平面的**厚度**$ \\delta $成**反比**。\n",
    "\n",
    "$ \\Phi = qA = \\lambda A \\dfrac{t_1 - t_2}{\\delta} = \\dfrac{\\lambda}{\\delta}A \\Delta t $，当$ \\delta \\rightarrow 0 $的极限情况下，更为普遍的式子：$ \\Phi = - \\lambda A \\dfrac{dt}{dx} $或$ q = \\dfrac{\\Phi}{A} = -\\lambda \\dfrac{dt}{dx} $\n",
    "\n",
    "-   公式解释：q为**热流密度**，单位是$ W/m^2 $；$ \\lambda $是**导热系数**，单位是$ W/(m \\cdot K) $，负号来表示热量传递方向永远与温度梯度正方向相反。\n",
    "-   补充：热扩散率——温度变化过程中温度趋于一致的能力，单位是$ m^2 /s $，推导过程是$ a = \\dfrac{\\lambda}{\\rho c} $\n",
    "\n",
    "在同样加热条件下， 物体的热扩散率越大， 物体内部各处的温度差别越小，因此解释了铝的导热性能比木头好。\n",
    "\n",
    "&nbsp;\n",
    "\n",
    "### 对流\n",
    "\n",
    ">   指存在温度差的条件下，伴随流体的宏观移动发生的因冷流体与热流体互相掺混而导致的热量迁移。\n",
    "\n",
    "-   分为<u>强迫对流</u>和<u>自然对流</u>\n",
    "-   对流的传热速率方程\n",
    "\n",
    "牛顿冷却公式：$ \\Phi = hA(t_w - t_f) $\n",
    "\n",
    "-   公式解释：A为对流换热的面积；h是表面传热系数，单位是 $ W/(m^2 \\cdot K) $，\n",
    "\n",
    "&nbsp;\n",
    "\n",
    "### 热辐射\n",
    "\n",
    ">   是指物质内部因微观粒子的热运动而激发出来的电磁波（或光量子）能量。\n",
    "\n",
    "-   **黑体**的理想化模型\n",
    "\n",
    "黑体不仅具有最高发射能力，同时也具有最高的吸收能力，它吸收全部外来的投射辐射能量$ q_b = \\sigma {T_b}^4 $\n",
    "\n",
    "-   公式解释：$ {T_b}^4 $为黑体表面的热力学温度；$ \\sigma = 5.67 \\times 10^{-8}  W/(m^2 \\cdot K^4)  $是黑体辐射常数\n",
    "\n",
    "实际物体发射热辐射的能力都低于相同温度的黑体，一般用**发射率**（或者**黑度**）$ \\varepsilon  $来表示与黑体在辐射能力上的差距，它介于0与1之间，因此公式表示为$ q = \\varepsilon \\sigma {T_b}^4 $\n",
    "\n",
    "实际物体只能接受外来投射辐射中的一部分，则公式表示为$ \\Phi_{abs} = AG\\alpha $\n",
    "\n",
    "-   公式解释：G为外来投射辐射，单位是$ W/m^2 $；A是受辐射的面积；$ \\alpha  $是吸收比。\n",
    "\n",
    "最重要的是**辐射热交换**！\n",
    "\n",
    "-   当两个表面温度相同的物体相互以辐射的方式交换热量，发射和吸收过程正在进行之中，但是净交换量为0，则两个表明处于辐射热平衡之中。\n",
    "\n",
    "物体表面温度为$ T_w $，环境温度为$ T_{sur} $，那么单位表面积与环境的净辐射热流为$ q = \\varepsilon \\sigma ( {T_{w}}^4 - {T_{abs}}^4 )$。\n",
    "\n",
    "-   在很多换热过程中，**辐射**与**对流**同时进行，因此叫做复合换热，表面净损失或获得的能量等于两种方式之和，即$ \\Phi = \\Phi_r + \\Phi_c = A\\varepsilon \\sigma ( {T_{w}}^4 - {T_{abs}}^4 ) + h_c A(T_w - T_f) $\n",
    "-   将辐射换热改为对流换热来进行表示$ \\Phi = \\Phi_r + \\Phi_c = h_r A(T_w - T_f) + h_c A(T_w - T_f) $，其中$ h_r = \\varepsilon \\sigma ( {T_{w}}^4 - {T_{abs}}^4 ) / (T_w - T_f) $"
   ]
  }
 ],
 "metadata": {
  "kernelspec": {
   "display_name": "Python 3",
   "language": "python",
   "name": "python3"
  },
  "language_info": {
   "codemirror_mode": {
    "name": "ipython",
    "version": 3
   },
   "file_extension": ".py",
   "mimetype": "text/x-python",
   "name": "python",
   "nbconvert_exporter": "python",
   "pygments_lexer": "ipython3",
   "version": "3.6.1"
  },
  "toc": {
   "nav_menu": {},
   "number_sections": true,
   "sideBar": true,
   "skip_h1_title": false,
   "toc_cell": false,
   "toc_position": {},
   "toc_section_display": "block",
   "toc_window_display": true
  }
 },
 "nbformat": 4,
 "nbformat_minor": 2
}
