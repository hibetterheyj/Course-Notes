{
 "cells": [
  {
   "cell_type": "markdown",
   "metadata": {},
   "source": [
    "<center><font size =4>**第二章 直流电动机与电力拖动**</font></center>"
   ]
  },
  {
   "cell_type": "markdown",
   "metadata": {},
   "source": [
    "> **Updating Log**\n",
    ">\n",
    "> First Created on May 9th, 2018"
   ]
  },
  {
   "cell_type": "markdown",
   "metadata": {},
   "source": [
    "## 基本构造\n",
    "\n",
    "> 转子、定子以及之间的气隙\n",
    "\n",
    "- 定子\n",
    "\n",
    "机座、主磁极、换向极、端盖等部件。\n",
    "\n",
    "机座——一是固定相关部件，二是作为磁路，较好的导磁==>铸钢与厚钢板\n",
    "\n",
    "- 转子\n",
    "\n",
    "电枢、换向器与风扇"
   ]
  },
  {
   "cell_type": "markdown",
   "metadata": {},
   "source": [
    "## 工作原理\n",
    "\n",
    "> 建立在**电磁感应**和**电磁力**定律\n",
    "\n",
    "电磁感应原理：$ e = Blv $ 电磁力定律：$ F = Bil $\n",
    "\n",
    "直流电机的可逆性原理\n",
    "\n"
   ]
  },
  {
   "cell_type": "markdown",
   "metadata": {},
   "source": [
    "## 电动势与电磁转矩\n",
    "\n",
    "- 感应电动势\n",
    "\n",
    "$ E_a = C_e \\Phi n $\n",
    "\n",
    "式中相关——$ C_e $ 电机结构常数与电动势常数；$ \\Phi $ 电极磁通，单位Wb；$ n $ 电机转速，单位rpm；$ E_a $ 电枢电动势，单位V\n",
    "\n",
    "**在发电机中，电枢电动势与电流方向相同；在电动机相反，因此在电枢中被称为反电动势**\n",
    "\n",
    "- 电磁转矩\n",
    "\n",
    "$ T = C_T \\Phi I_a $, $ C_T = 9.55 C_e $\n",
    "\n",
    "式中相关——$ C_T $ 电机结构常数，成为转矩常数；$ I_a $ 电枢电流，单位A；$ T $ 电磁转矩，单位N·m\n",
    "\n"
   ]
  },
  {
   "cell_type": "markdown",
   "metadata": {},
   "source": [
    "## 励磁方式和电枢反应\n",
    "\n",
    "- 励磁方式：主要分为他励和自励（串励、并励、复励）\n",
    "- 他励电机\n",
    "\n",
    "励磁电流独立电源供电大小与电枢电压无关\n",
    "\n",
    "- 自励电机\n",
    "\n",
    "并励：绕组相互并联，电流受到电压端波动；\n",
    "\n",
    "串励：电流相同，则主磁场的强弱与载流有关系，一版作特殊用途\n",
    "\n",
    "复励：有两个磁场绕组，一个与电枢电路串联，一个并联\n",
    "\n",
    "- 磁场：主磁通$ \\Phi _0 $ 与 漏磁通$ \\Phi_{\\delta} $两部分，漏磁通小得多，主磁通所经过的磁回路包括——主磁路铁芯、气隙、电枢铁芯、磁轭（机座）"
   ]
  },
  {
   "cell_type": "markdown",
   "metadata": {},
   "source": [
    "## 他励直流电动机机械特性\n",
    "\n",
    "- 机械特性方程式\n",
    "\n",
    "$ U = E_a + I_a (R_a + R_c) $\n",
    "\n",
    "式中——$ R_a $ 电枢电阻；$ R_C $ 外串电阻\n",
    "\n",
    "联立上式可得：$ n = \\dfrac{E_a}{C_e \\Phi} = \\dfrac{U - I_a(R_a + R_c)}{C_e \\Phi} = \\dfrac{U}{C_e \\Phi} - \\dfrac{R_a + R_c}{C_e \\Phi C_T \\Phi}T $\n",
    "\n",
    "因此可以写成：$ n = n_0 - \\beta T $\n",
    "\n",
    "式中——$ n_0 $ 理想空载转速 $ n_0 = U/C_e \\Phi $；$ \\beta $ 机械特性曲线斜率 $ \\beta = (R_a + R_C)/(C_e \\Phi C_T \\Phi) $\n",
    "\n",
    "1. 空载点\n",
    "\n",
    "无负载 ==> 无转矩，无电枢电流$ I_a $，无电枢压降，则$ E_a = U $，则转速为$  n_0 = U/C_e \\Phi  $\n",
    "\n",
    "实际空载，无输出转矩$ T_2 = 0 $，但加上损耗则实际空载转矩$ T = T_1 + T_2 $，则转速为$ n_0 ' = n_0 - \\beta T_0 $\n",
    "\n",
    "1. 堵转点\n",
    "\n",
    "无转速$ n =0 $ ==> 电枢电动势 $ E_a = 0 $，则此时$ I_a = (U-E_a)/(R_a + R_c) = U/(R_a + R_c) = I_X $\n",
    "\n",
    "所以此时转矩最大为$ T = C_T \\Phi I_X $\n",
    "\n",
    "- 人为机械特性"
   ]
  },
  {
   "cell_type": "code",
   "execution_count": null,
   "metadata": {
    "collapsed": true
   },
   "outputs": [],
   "source": []
  }
 ],
 "metadata": {
  "kernelspec": {
   "display_name": "Python 3",
   "language": "python",
   "name": "python3"
  },
  "language_info": {
   "codemirror_mode": {
    "name": "ipython",
    "version": 3
   },
   "file_extension": ".py",
   "mimetype": "text/x-python",
   "name": "python",
   "nbconvert_exporter": "python",
   "pygments_lexer": "ipython3",
   "version": "3.6.1"
  },
  "toc": {
   "nav_menu": {},
   "number_sections": true,
   "sideBar": true,
   "skip_h1_title": false,
   "toc_cell": false,
   "toc_position": {},
   "toc_section_display": "block",
   "toc_window_display": false
  }
 },
 "nbformat": 4,
 "nbformat_minor": 2
}
